{
 "cells": [
  {
   "cell_type": "markdown",
   "id": "53a1ab31-bc0b-4c5c-9a79-bafe5af64c58",
   "metadata": {
    "jp-MarkdownHeadingCollapsed": true,
    "tags": []
   },
   "source": [
    "# Project Part 1 - Sequences: Lists and Tuples\n",
    "Notebook by: Lindsey Sullivan\n",
    "\n",
    "- [Lists](#Lists)\n",
    "- [Tuples](#Tuples)\n",
    "- [Unpacking Sequences](#Unpacking-Sequences) \n",
    "- [Sequence Slicing](#Sequence-Slicing)\n",
    "- [del Statement](#del-Statement)\n",
    "- [Passing Lists to Functions](#Passing-Lists-to-Functions)\n",
    "- [Sorting Lists](#Sorting-Lists)\n",
    "- [Searching Sequences](#Searching-Sequences)\n",
    "- [Other List Methods](#Other-List-Methods)\n",
    "- [Simulating Stacks with Lists](#Simulating-Stacks-with-Lists)\n",
    "- [List Comprehensions](#List-Comprehensions)\n",
    "- [Filter, Map and Reduce](#Filter,-Map-and-Reduce)\n",
    "- [Two-Dimensional Lists](#Two-Dimensional-Lists)\n"
   ]
  },
  {
   "cell_type": "markdown",
   "id": "8e3642a4-1225-4926-9c02-ff49361ba66a",
   "metadata": {
    "jp-MarkdownHeadingCollapsed": true,
    "tags": []
   },
   "source": [
    "## Lists"
   ]
  },
  {
   "cell_type": "markdown",
   "id": "97c5d4a5-85cb-40c3-85e0-cc0da962db60",
   "metadata": {
    "tags": []
   },
   "source": [
    "Lists typically store **homogeneous data** that is values of the **same** data type. They may also store **heterogeneous data** data of many different types. "
   ]
  },
  {
   "cell_type": "code",
   "execution_count": 3,
   "id": "2bbc1640-7424-4dd2-a9aa-bfd6ab334de9",
   "metadata": {},
   "outputs": [
    {
     "data": {
      "text/plain": [
       "5"
      ]
     },
     "execution_count": 3,
     "metadata": {},
     "output_type": "execute_result"
    }
   ],
   "source": [
    "c = [5,7,-3,8,9,10,11,20] #creation of a list\n",
    "\n",
    "c[0] #first index value"
   ]
  },
  {
   "cell_type": "code",
   "execution_count": 4,
   "id": "30f0d4ad-7d36-4f05-b488-980b90642926",
   "metadata": {},
   "outputs": [
    {
     "data": {
      "text/plain": [
       "9"
      ]
     },
     "execution_count": 4,
     "metadata": {},
     "output_type": "execute_result"
    }
   ],
   "source": [
    "c[4] #fifth index value"
   ]
  },
  {
   "cell_type": "markdown",
   "id": "af106ce3-274e-4889-a424-a348784d7d3d",
   "metadata": {},
   "source": [
    "### Len() Function"
   ]
  },
  {
   "cell_type": "code",
   "execution_count": 5,
   "id": "25b5c213-4285-46ce-b5ca-926387986dce",
   "metadata": {},
   "outputs": [
    {
     "data": {
      "text/plain": [
       "8"
      ]
     },
     "execution_count": 5,
     "metadata": {},
     "output_type": "execute_result"
    }
   ],
   "source": [
    "len(c) #length of the list"
   ]
  },
  {
   "cell_type": "code",
   "execution_count": null,
   "id": "d9aff10e-bd13-4fe9-8d44-e514157c604b",
   "metadata": {},
   "outputs": [],
   "source": [
    "c[-1] #gets the index values reversed, back to front with negative integers"
   ]
  },
  {
   "cell_type": "markdown",
   "id": "47d7c051-edff-4116-ac81-f3f9bf6506f1",
   "metadata": {},
   "source": [
    "### IndexError"
   ]
  },
  {
   "cell_type": "code",
   "execution_count": 6,
   "id": "ccfdbbd7-efe9-4b20-86ba-76160ecf7685",
   "metadata": {},
   "outputs": [
    {
     "ename": "IndexError",
     "evalue": "list index out of range",
     "output_type": "error",
     "traceback": [
      "\u001b[0;31m---------------------------------------------------------------------------\u001b[0m",
      "\u001b[0;31mIndexError\u001b[0m                                Traceback (most recent call last)",
      "Input \u001b[0;32mIn [6]\u001b[0m, in \u001b[0;36m<cell line: 1>\u001b[0;34m()\u001b[0m\n\u001b[0;32m----> 1\u001b[0m \u001b[43mc\u001b[49m\u001b[43m[\u001b[49m\u001b[38;5;241;43m100\u001b[39;49m\u001b[43m]\u001b[49m\n",
      "\u001b[0;31mIndexError\u001b[0m: list index out of range"
     ]
    }
   ],
   "source": [
    "c[100]"
   ]
  },
  {
   "cell_type": "markdown",
   "id": "02080821-cc2a-453e-8ce5-3a7dec0fe469",
   "metadata": {},
   "source": [
    "> The length is 8, accessing 100 creates an IndexError because that index value is out of range"
   ]
  },
  {
   "cell_type": "markdown",
   "id": "96f8be48-29ca-4c59-bab4-d71128b76aa5",
   "metadata": {},
   "source": [
    "### Elements as Variables"
   ]
  },
  {
   "cell_type": "code",
   "execution_count": 7,
   "id": "9cda79ef-a37c-4b67-972d-ce461f5f14b5",
   "metadata": {},
   "outputs": [
    {
     "data": {
      "text/plain": [
       "9"
      ]
     },
     "execution_count": 7,
     "metadata": {},
     "output_type": "execute_result"
    }
   ],
   "source": [
    "c[0]+c[1]+c[2] #using the elements as variables"
   ]
  },
  {
   "cell_type": "markdown",
   "id": "ecc11e96-7c93-4254-97cf-9b3f67d7ba6e",
   "metadata": {},
   "source": [
    "### Appending to a list"
   ]
  },
  {
   "cell_type": "code",
   "execution_count": 8,
   "id": "3fa02f20-ac69-4708-81a2-9246d59a9f23",
   "metadata": {},
   "outputs": [
    {
     "data": {
      "text/plain": [
       "['S', 'u', 'l', 'l', 'i', 'v', 'a', 'n']"
      ]
     },
     "execution_count": 8,
     "metadata": {},
     "output_type": "execute_result"
    }
   ],
   "source": [
    "letters = []\n",
    "letters += 'Sullivan'\n",
    "letters"
   ]
  },
  {
   "cell_type": "markdown",
   "id": "6dcba744-36fc-43d3-a89c-19c6a6247a25",
   "metadata": {},
   "source": [
    "### Concatenating Lists\n",
    "You can concatenate two lists, two tuples or two strings using the + operator. The result is a new *new* sequence of the same type containing the left operand's elements. "
   ]
  },
  {
   "cell_type": "code",
   "execution_count": 11,
   "id": "7d960694-8885-4f27-ac37-b7c7878399d4",
   "metadata": {},
   "outputs": [
    {
     "data": {
      "text/plain": [
       "[20, 30, 5, 2, 10, 3]"
      ]
     },
     "execution_count": 11,
     "metadata": {},
     "output_type": "execute_result"
    }
   ],
   "source": [
    "list1=[20,30,5]\n",
    "list2=[2,10,3]\n",
    "concatenated_list = list1 + list2\n",
    "concatenated_list"
   ]
  },
  {
   "cell_type": "markdown",
   "id": "8288b0fa-49bb-4476-a7b4-dc066be05562",
   "metadata": {
    "tags": []
   },
   "source": [
    "### Using for and range to Access List Indices and Values\n",
    "\n",
    "The function call range(len(concatendated_list)) produces a sequence of integers representing concatenated_list's indices remaining in range."
   ]
  },
  {
   "cell_type": "code",
   "execution_count": 14,
   "id": "7e0a4698-f5ca-4fca-bd9f-37c17b8d0056",
   "metadata": {},
   "outputs": [
    {
     "name": "stdout",
     "output_type": "stream",
     "text": [
      "0: 20\n",
      "1: 30\n",
      "2: 5\n",
      "3: 2\n",
      "4: 10\n",
      "5: 3\n"
     ]
    }
   ],
   "source": [
    "for i in range(len(concatenated_list)):\n",
    "    print(f'{i}: {concatenated_list[i]}')\n"
   ]
  },
  {
   "cell_type": "markdown",
   "id": "abeb0506-a35a-429a-a010-e9f7c84427cb",
   "metadata": {},
   "source": [
    "### Comparison Operators\n",
    "Comparing entire lists element by element using comparison operators."
   ]
  },
  {
   "cell_type": "code",
   "execution_count": 16,
   "id": "2d9be3b1-8a51-4db8-9677-7cf4937259ed",
   "metadata": {},
   "outputs": [
    {
     "data": {
      "text/plain": [
       "True"
      ]
     },
     "execution_count": 16,
     "metadata": {},
     "output_type": "execute_result"
    }
   ],
   "source": [
    "a = [4,5,6]\n",
    "b = [4,5,6]\n",
    "c = [1,2,4,6]\n",
    "\n",
    "a == b"
   ]
  },
  {
   "cell_type": "code",
   "execution_count": 17,
   "id": "213f9d66-cdc3-4bde-b303-83a0d7a57925",
   "metadata": {},
   "outputs": [
    {
     "data": {
      "text/plain": [
       "False"
      ]
     },
     "execution_count": 17,
     "metadata": {},
     "output_type": "execute_result"
    }
   ],
   "source": [
    "a == c"
   ]
  },
  {
   "cell_type": "code",
   "execution_count": 18,
   "id": "b4fb161f-f671-41a5-aa54-80e3d69a0874",
   "metadata": {},
   "outputs": [
    {
     "data": {
      "text/plain": [
       "False"
      ]
     },
     "execution_count": 18,
     "metadata": {},
     "output_type": "execute_result"
    }
   ],
   "source": [
    "a < c"
   ]
  },
  {
   "cell_type": "code",
   "execution_count": 19,
   "id": "783a2ba2-22a7-4d2e-b420-9d09aa261c48",
   "metadata": {},
   "outputs": [
    {
     "data": {
      "text/plain": [
       "False"
      ]
     },
     "execution_count": 19,
     "metadata": {},
     "output_type": "execute_result"
    }
   ],
   "source": [
    "c >= b"
   ]
  },
  {
   "cell_type": "markdown",
   "id": "796180a3-fb1b-4b23-8573-fb654cb25470",
   "metadata": {},
   "source": [
    "#### Self Check"
   ]
  },
  {
   "cell_type": "code",
   "execution_count": 25,
   "id": "9465f863-c685-4c3e-9a94-0fca5a1b968e",
   "metadata": {},
   "outputs": [
    {
     "name": "stdout",
     "output_type": "stream",
     "text": [
      "The result is [8, 64, 216, 512, 1000, 1728, 2744, 4096, 5832, 8000]\n"
     ]
    }
   ],
   "source": [
    "def cube_list(values):\n",
    "    for i in range(len(values)):\n",
    "        values[i] **= 3\n",
    "numbers = [2,4,6,8,10,12,14,16,18,20]\n",
    "cube_list(numbers)\n",
    "print(f'The result is {numbers}')"
   ]
  },
  {
   "cell_type": "markdown",
   "id": "8a40b80b-b160-4e6e-854c-4a6a0936fde0",
   "metadata": {},
   "source": [
    "*List practice created by Lindsey Sullivan*"
   ]
  },
  {
   "cell_type": "markdown",
   "id": "06cd5cc7-dfe2-4cd3-a157-fb131c9e6e91",
   "metadata": {
    "jp-MarkdownHeadingCollapsed": true,
    "tags": []
   },
   "source": [
    "## Tuples"
   ]
  },
  {
   "cell_type": "markdown",
   "id": "7de03c61-b134-4771-b38b-fd6c5b4358c3",
   "metadata": {},
   "source": [
    "Tuples are *immutable* and typically store heterogeneous data, but the data can be homogeneous. A tuple's length is its number of elements and cannot change during program execution."
   ]
  },
  {
   "cell_type": "code",
   "execution_count": 26,
   "id": "af6ca34a-b648-47ca-a21f-3596070dc899",
   "metadata": {},
   "outputs": [
    {
     "data": {
      "text/plain": [
       "('Lindsey', 'Sullivan', 2022, 'Shaun', 'Sullivan')"
      ]
     },
     "execution_count": 26,
     "metadata": {},
     "output_type": "execute_result"
    }
   ],
   "source": [
    "example_tuple =()\n",
    "example_tuple = 'Lindsey','Sullivan', 2022, 'Shaun', 'Sullivan'\n",
    "example_tuple"
   ]
  },
  {
   "cell_type": "code",
   "execution_count": 27,
   "id": "5f80e8a2-76dd-4d2c-87ec-d7f4e0147876",
   "metadata": {},
   "outputs": [
    {
     "data": {
      "text/plain": [
       "'Lindsey'"
      ]
     },
     "execution_count": 27,
     "metadata": {},
     "output_type": "execute_result"
    }
   ],
   "source": [
    "example_tuple[0] #accessing tuple index"
   ]
  },
  {
   "cell_type": "code",
   "execution_count": 29,
   "id": "6090946e-c900-436c-8c88-3ffcbd4f95f9",
   "metadata": {},
   "outputs": [
    {
     "data": {
      "text/plain": [
       "('Lindsey',\n",
       " 'Sullivan',\n",
       " 2022,\n",
       " 'Shaun',\n",
       " 'Sullivan',\n",
       " 'October',\n",
       " 16,\n",
       " 'October',\n",
       " 16)"
      ]
     },
     "execution_count": 29,
     "metadata": {},
     "output_type": "execute_result"
    }
   ],
   "source": [
    "example_tuple += ('October',16) #adding to a tuple\n",
    "example_tuple"
   ]
  },
  {
   "cell_type": "code",
   "execution_count": null,
   "id": "fa73a70f-14ab-4f95-92ee-835ce92d9291",
   "metadata": {},
   "outputs": [],
   "source": [
    "student_tuple = ('Lindsey', 'Sullivan', [98,90,70])\n",
    "student_tuple"
   ]
  },
  {
   "cell_type": "markdown",
   "id": "53867634-f471-47bb-b395-76a9fa2267ff",
   "metadata": {},
   "source": [
    "#### Self Check\n",
    " 1. True/False: A += augmented assignment statement may not be used with strings and tuples, because they're immutable. **False**\n",
    " 2. True/False: Tuples can only contain only immutable objects. **False**\n",
    " 3. Create a single-element tuple containing 123.45, then display it"
   ]
  },
  {
   "cell_type": "code",
   "execution_count": 30,
   "id": "2889ed72-fa8c-4b16-966c-1e344cf11521",
   "metadata": {},
   "outputs": [
    {
     "data": {
      "text/plain": [
       "123.45"
      ]
     },
     "execution_count": 30,
     "metadata": {},
     "output_type": "execute_result"
    }
   ],
   "source": [
    "single_element = (123.45)\n",
    "single_element"
   ]
  },
  {
   "cell_type": "markdown",
   "id": "31b9032d-4a73-4db7-8cc9-56548027a8fc",
   "metadata": {},
   "source": [
    " 4. Show what happens when you attempt to concatenate sequences of different types- the list [1,2,3] and the tuple (4,5,6)- using the + operators"
   ]
  },
  {
   "cell_type": "code",
   "execution_count": 31,
   "id": "d033f657-9b7f-4474-be6c-ff6e91a5b842",
   "metadata": {},
   "outputs": [
    {
     "ename": "TypeError",
     "evalue": "can only concatenate list (not \"tuple\") to list",
     "output_type": "error",
     "traceback": [
      "\u001b[0;31m---------------------------------------------------------------------------\u001b[0m",
      "\u001b[0;31mTypeError\u001b[0m                                 Traceback (most recent call last)",
      "Input \u001b[0;32mIn [31]\u001b[0m, in \u001b[0;36m<cell line: 1>\u001b[0;34m()\u001b[0m\n\u001b[0;32m----> 1\u001b[0m \u001b[43m[\u001b[49m\u001b[38;5;241;43m1\u001b[39;49m\u001b[43m,\u001b[49m\u001b[38;5;241;43m2\u001b[39;49m\u001b[43m,\u001b[49m\u001b[38;5;241;43m3\u001b[39;49m\u001b[43m]\u001b[49m\u001b[43m \u001b[49m\u001b[38;5;241;43m+\u001b[39;49m\u001b[43m \u001b[49m\u001b[43m(\u001b[49m\u001b[38;5;241;43m4\u001b[39;49m\u001b[43m,\u001b[49m\u001b[38;5;241;43m5\u001b[39;49m\u001b[43m,\u001b[49m\u001b[38;5;241;43m6\u001b[39;49m\u001b[43m)\u001b[49m\n",
      "\u001b[0;31mTypeError\u001b[0m: can only concatenate list (not \"tuple\") to list"
     ]
    }
   ],
   "source": [
    "[1,2,3] + (4,5,6) #causes a TypeError"
   ]
  },
  {
   "cell_type": "markdown",
   "id": "1e6e312a-fe9c-4b06-bb96-7b00a4722e99",
   "metadata": {
    "jp-MarkdownHeadingCollapsed": true,
    "tags": []
   },
   "source": [
    "## Unpacking Sequences"
   ]
  },
  {
   "cell_type": "code",
   "execution_count": 3,
   "id": "5c68b816-da90-4d8c-b693-bd61595208c8",
   "metadata": {},
   "outputs": [
    {
     "name": "stdout",
     "output_type": "stream",
     "text": [
      "The student's first name is Lindsey, and their grades are [98, 90, 70]\n"
     ]
    }
   ],
   "source": [
    "#unpacking a tuple\n",
    "student_tuple = ('Lindsey',[98,90,70])\n",
    "first_name, grades = student_tuple\n",
    "print(f'The student\\'s first name is {first_name}, and their grades are {grades}')"
   ]
  },
  {
   "cell_type": "code",
   "execution_count": 5,
   "id": "1a8f81e2-0f12-4653-b2ec-49a4ff457295",
   "metadata": {},
   "outputs": [
    {
     "name": "stdout",
     "output_type": "stream",
     "text": [
      "\n",
      "Creating a bar chart from the number list:\n",
      "Index   Value Bar\n",
      "    0      20 ********************\n",
      "    1      30 ******************************\n",
      "    2       4 ****\n",
      "    3      15 ***************\n",
      "    4       7 *******\n"
     ]
    }
   ],
   "source": [
    "#creating a primitive bar chart\n",
    "numbers = [20,30,4,15,7]\n",
    "\n",
    "print('\\nCreating a bar chart from the number list:')\n",
    "print(f'Index{\"Value\":>8} Bar')\n",
    "\n",
    "for index, value in enumerate(numbers):\n",
    "    print(f'{index:>5}{value:>8} {\"*\" * value}')"
   ]
  },
  {
   "cell_type": "markdown",
   "id": "d14e2519-803c-42a9-b036-cc438aa10b17",
   "metadata": {},
   "source": [
    "*Tuple practice created by Lindsey Sullivan*"
   ]
  },
  {
   "cell_type": "markdown",
   "id": "617e1ff3-61c0-4ba6-a3ae-bb04b59c5d50",
   "metadata": {
    "jp-MarkdownHeadingCollapsed": true,
    "tags": []
   },
   "source": [
    "## Sequence Slicing"
   ]
  },
  {
   "cell_type": "markdown",
   "id": "737f4ceb-5aa6-4505-9bfe-e896af349821",
   "metadata": {},
   "source": [
    "You can **slice** sequences to creat enew sequences of the same type containing subsets of the original elements. Slice operations can modify mutable sequences."
   ]
  },
  {
   "cell_type": "code",
   "execution_count": 7,
   "id": "bab3315e-0ddb-4ca9-a3cd-811a084ab662",
   "metadata": {},
   "outputs": [
    {
     "data": {
      "text/plain": [
       "[4, 15, 7]"
      ]
     },
     "execution_count": 7,
     "metadata": {},
     "output_type": "execute_result"
    }
   ],
   "source": [
    "numbers = [20,30,4,15,7]\n",
    "numbers[2:6]"
   ]
  },
  {
   "cell_type": "markdown",
   "id": "bda7865c-10c1-4a33-b240-931ce2e8eb5b",
   "metadata": {},
   "source": [
    "#### Self Check\n",
    "1. True/False - Slice operations that modify a sequence work identically for lists, tuples, and strings.**False**\n",
    "2. Assume you have a list called names. The slice expression _*names[::-1]*_ creates a new list wiht the elements of names in reverse order.\n",
    "3. Create a list called numbers containing the values from 1 through 15, then use slices to perform the following operations:\n",
    " - select number's even integers\n",
    " - replace the elements at indicies 5 through 9 with 0s, then show the resulting list\n",
    " - keep only the first 5 elements, then show the resulting list\n",
    " - delete all the remaining elements by assiging to a slice. show the resuling list. "
   ]
  },
  {
   "cell_type": "code",
   "execution_count": 23,
   "id": "d645a199-dd95-425a-8416-1b25278ba7b5",
   "metadata": {},
   "outputs": [
    {
     "data": {
      "text/plain": [
       "[1, 2, 3, 4, 5, 6, 7, 8, 9, 10, 11, 12, 13, 14]"
      ]
     },
     "execution_count": 23,
     "metadata": {},
     "output_type": "execute_result"
    }
   ],
   "source": [
    "numbers = list(range(1,15))\n",
    "numbers"
   ]
  },
  {
   "cell_type": "code",
   "execution_count": 24,
   "id": "526221e5-f291-458c-8df8-986297f79818",
   "metadata": {},
   "outputs": [
    {
     "data": {
      "text/plain": [
       "[2, 4, 6, 8, 10, 12, 14]"
      ]
     },
     "execution_count": 24,
     "metadata": {},
     "output_type": "execute_result"
    }
   ],
   "source": [
    "#even integers\n",
    "numbers[1:len(numbers):2]"
   ]
  },
  {
   "cell_type": "code",
   "execution_count": 25,
   "id": "7b0da3f4-ac9c-4aec-bc2c-a49d8fbb6297",
   "metadata": {},
   "outputs": [
    {
     "data": {
      "text/plain": [
       "[1, 2, 3, 4, 5, 0, 0, 0, 0, 0, 11, 12, 13, 14]"
      ]
     },
     "execution_count": 25,
     "metadata": {},
     "output_type": "execute_result"
    }
   ],
   "source": [
    "#replace elements at 5 - 9 with 0s\n",
    "numbers[5:10] = [0] * len(numbers[5:10]) #without including the len - only 1 value shows as 0 as it replaces all of [5:10] with 1 0.\n",
    "numbers"
   ]
  },
  {
   "cell_type": "code",
   "execution_count": 26,
   "id": "e162398f-d41e-4666-a3cf-0ab1b60728d5",
   "metadata": {},
   "outputs": [
    {
     "data": {
      "text/plain": [
       "[1, 2, 3, 4, 5]"
      ]
     },
     "execution_count": 26,
     "metadata": {},
     "output_type": "execute_result"
    }
   ],
   "source": [
    "#keep only the first 5\n",
    "numbers[5:] = []\n",
    "numbers"
   ]
  },
  {
   "cell_type": "code",
   "execution_count": 27,
   "id": "4f1513b8-dc80-4368-bd06-ad4c03cea501",
   "metadata": {},
   "outputs": [
    {
     "data": {
      "text/plain": [
       "[]"
      ]
     },
     "execution_count": 27,
     "metadata": {},
     "output_type": "execute_result"
    }
   ],
   "source": [
    "#delete all remaining elements\n",
    "numbers[:] =[]\n",
    "numbers"
   ]
  },
  {
   "cell_type": "markdown",
   "id": "9faeaac8-ddf4-49d0-a614-179d61c11578",
   "metadata": {
    "jp-MarkdownHeadingCollapsed": true,
    "tags": []
   },
   "source": [
    "## del Statement"
   ]
  },
  {
   "cell_type": "markdown",
   "id": "cf89167c-09cc-49bd-a08d-a8de2c1f970b",
   "metadata": {},
   "source": [
    "The **del** statement also can be used to remove elements from a list and to delete variables fromt he interactive session.\n",
    "\n",
    "#### Self Check\n",
    "1. Given a list numbers containing 1 through 10, del numbers [-2] removes the value _*9*_ from the list.\n",
    "2. Create a list called numbers containing the values from 1 through 15, then use the del statement to perform the following operations consecutively:\n",
    "    - Delete a slice containing the first 4 elements, then show the resulting list\n",
    "    - Starting witht he first element, use a slice to delete every other element of the list, then show the resulting list."
   ]
  },
  {
   "cell_type": "code",
   "execution_count": 33,
   "id": "66441f93-b9f3-456b-81fa-d8bd5b2857d5",
   "metadata": {},
   "outputs": [
    {
     "data": {
      "text/plain": [
       "[1, 2, 3, 4, 5, 6, 7, 8, 9, 10, 11, 12, 13, 14, 15]"
      ]
     },
     "execution_count": 33,
     "metadata": {},
     "output_type": "execute_result"
    }
   ],
   "source": [
    "numbers = list(range(1,16))\n",
    "numbers"
   ]
  },
  {
   "cell_type": "code",
   "execution_count": 34,
   "id": "59fc2a2a-4c64-47e6-9a2a-bce500fee35f",
   "metadata": {},
   "outputs": [
    {
     "data": {
      "text/plain": [
       "[5, 6, 7, 8, 9, 10, 11, 12, 13, 14, 15]"
      ]
     },
     "execution_count": 34,
     "metadata": {},
     "output_type": "execute_result"
    }
   ],
   "source": [
    "del numbers[0:4]\n",
    "numbers"
   ]
  },
  {
   "cell_type": "code",
   "execution_count": 35,
   "id": "3ce45089-47bb-4b4d-9b4d-078b724a3922",
   "metadata": {},
   "outputs": [
    {
     "data": {
      "text/plain": [
       "[6, 8, 10, 12, 14]"
      ]
     },
     "execution_count": 35,
     "metadata": {},
     "output_type": "execute_result"
    }
   ],
   "source": [
    "del numbers[::2]\n",
    "numbers"
   ]
  },
  {
   "cell_type": "markdown",
   "id": "bde22c63-2685-4649-abd7-e181e03175ad",
   "metadata": {
    "jp-MarkdownHeadingCollapsed": true,
    "tags": []
   },
   "source": [
    "## Passing Lists to Functions"
   ]
  },
  {
   "cell_type": "code",
   "execution_count": 36,
   "id": "d99d5593-e429-42f1-b569-249c69f21127",
   "metadata": {},
   "outputs": [
    {
     "data": {
      "text/plain": [
       "[20, 6, 10, 14, 18]"
      ]
     },
     "execution_count": 36,
     "metadata": {},
     "output_type": "execute_result"
    }
   ],
   "source": [
    "#passing an entire list to a function\n",
    "def modify_elements(items):\n",
    "    for i in range(len(items)):\n",
    "        items[i] *= 2\n",
    "numbers = [10,3,5,7,9]\n",
    "modify_elements(numbers)\n",
    "numbers"
   ]
  },
  {
   "cell_type": "markdown",
   "id": "74ee1dd4-b3dc-40e3-835d-be7ce9b858f8",
   "metadata": {},
   "source": [
    "#### Self Check\n",
    "1. True/False - You cannot modify a list's contents when you pass it to a function. **False**\n",
    "2. True/False - Tuples can contain lists and other mutable objects. Those mutable objects can be modified when a tuple is passed to a function. **True**"
   ]
  },
  {
   "cell_type": "markdown",
   "id": "ead6d8d9-445c-42a2-b95d-f4bc149a9b13",
   "metadata": {
    "jp-MarkdownHeadingCollapsed": true,
    "tags": []
   },
   "source": [
    "## Sorting Lists"
   ]
  },
  {
   "cell_type": "markdown",
   "id": "f6574beb-bd4b-4ef1-8aa4-edcb551e8d3f",
   "metadata": {},
   "source": [
    "Sorting enables you to arrange data either in ascending or descending order. "
   ]
  },
  {
   "cell_type": "code",
   "execution_count": 37,
   "id": "61a9a5d9-b3c7-4f91-b532-f3667b307599",
   "metadata": {},
   "outputs": [
    {
     "data": {
      "text/plain": [
       "[-2, 4, 8, 9, 10, 23, 35, 57, 93]"
      ]
     },
     "execution_count": 37,
     "metadata": {},
     "output_type": "execute_result"
    }
   ],
   "source": [
    "numbers = [4,57,93,8,9,23,35,10,-2]\n",
    "numbers.sort()\n",
    "numbers"
   ]
  },
  {
   "cell_type": "code",
   "execution_count": 39,
   "id": "59bbc04d-b71a-4ccc-9812-b0fc86df65aa",
   "metadata": {},
   "outputs": [
    {
     "data": {
      "text/plain": [
       "[93, 57, 35, 23, 10, 9, 8, 4, -2]"
      ]
     },
     "execution_count": 39,
     "metadata": {},
     "output_type": "execute_result"
    }
   ],
   "source": [
    "numbers.sort(reverse=True) #sorts in descending order\n",
    "numbers"
   ]
  },
  {
   "cell_type": "markdown",
   "id": "7c8b94a7-456b-471c-9303-e29acecc6d4b",
   "metadata": {},
   "source": [
    "#### Self Check\n",
    "1. To sort a list in descending order, call list method sort with the option keyword argument _*reverse* set to True. \n",
    "2. True/False - All sequences provide a sort method. **False**\n",
    "3. Create a foods list containing 'Cookies', 'pizza', 'grapes', 'apples', 'steak' and 'Bacon'. \n",
    "    - Use the list method to sort the list in ascending order.\n",
    "    - Are the strings in alphabetical order?"
   ]
  },
  {
   "cell_type": "code",
   "execution_count": 40,
   "id": "4f962ce2-9b46-46d1-b739-6e57c131d316",
   "metadata": {},
   "outputs": [
    {
     "data": {
      "text/plain": [
       "['Bacon', 'Cookies', 'Grapes', 'apples', 'pizza', 'steak']"
      ]
     },
     "execution_count": 40,
     "metadata": {},
     "output_type": "execute_result"
    }
   ],
   "source": [
    "foods = ['Cookies', 'pizza', 'Grapes', 'apples', 'steak','Bacon']\n",
    "foods.sort()\n",
    "foods #it is not in alphabetical order, they are in order based on an underlying character set"
   ]
  },
  {
   "cell_type": "markdown",
   "id": "68685c28-5c3f-4beb-8502-9f2f2157ae9b",
   "metadata": {
    "jp-MarkdownHeadingCollapsed": true,
    "tags": []
   },
   "source": [
    "## Searching Sequences"
   ]
  },
  {
   "cell_type": "markdown",
   "id": "108ab62b-b976-4ae3-bab5-57587145971b",
   "metadata": {},
   "source": [
    "**Searching** is the process of locating a key.\n",
    "\n",
    "List method **index** - takes an argument as a search key to locate the value in the list and returns the *first* element and the index."
   ]
  },
  {
   "cell_type": "markdown",
   "id": "ac7b61ca-50f9-464b-8d53-5ba7c326ba54",
   "metadata": {},
   "source": [
    "numbers = [1,3,5,7]\n",
    "numbers.index(5)"
   ]
  },
  {
   "cell_type": "markdown",
   "id": "41d0692d-b2ca-4186-8897-9e26cab2227b",
   "metadata": {},
   "source": [
    "- Operator *in* tests whether its right operand's iterable contains the left operand's value. \n",
    "- *Not in* operator tests whether its right operand's iterable does *not* contain the left operand's value. \n",
    "- *All* returns True if all items in its iterable argument are True. \n",
    "- *Any* returns True if any item in its iterable argument is True.\n",
    "\n",
    "*nonzero values are true and 0 is false*\n",
    "\n",
    "#### Self Check\n",
    "1. The _*=_ operator can be used to extend a list with copies of itself.\n",
    "2. Operators _*in*_ and _*not in*_ determine whether a sequence contains or does not contain a value,respectively. \n",
    "3. Create a five-element list containing 67,12,46,43,and 13, the use list method index to search for a 43 and 44. "
   ]
  },
  {
   "cell_type": "code",
   "execution_count": 48,
   "id": "15b8174f-4366-4e17-ac32-8da895873a65",
   "metadata": {},
   "outputs": [
    {
     "name": "stdout",
     "output_type": "stream",
     "text": [
      "43 is found at index: 3\n",
      "44 not found\n"
     ]
    }
   ],
   "source": [
    "numbers = [67,12,46,43,13]\n",
    "\n",
    "print(f'43 is found at index: {numbers.index(43)}')\n",
    "\n",
    "if 44 in numbers:\n",
    "    print(f'Found 44 at index: {numbers.index(44)}')\n",
    "else:\n",
    "    print('44 not found')\n"
   ]
  },
  {
   "cell_type": "markdown",
   "id": "296c2d97-e03f-479a-9c92-2a34805ea333",
   "metadata": {
    "jp-MarkdownHeadingCollapsed": true,
    "tags": []
   },
   "source": [
    "## Other List Methods"
   ]
  },
  {
   "cell_type": "markdown",
   "id": "7725e528-b259-40aa-84f4-23d632ee82a1",
   "metadata": {},
   "source": [
    "- **insert** adds a new item at a specific index. \n",
    "- **append** add new item to the end of a list\n",
    "- **extend** to add all the elements of another sequence to the end of a list\n",
    "- **remove** deletes the first element with a specific value\n",
    "- **clear** deletes all elements\n",
    "- **count** searches for its argument and returns the number of times it is found\n",
    "- **reverse** reverses the contents of a list in place, rather than creating a reversed copy"
   ]
  },
  {
   "cell_type": "markdown",
   "id": "a0c7004b-8c5d-461a-81e0-7b439f2fdb52",
   "metadata": {
    "jp-MarkdownHeadingCollapsed": true,
    "tags": []
   },
   "source": [
    "## Simulating Stacks with Lists"
   ]
  },
  {
   "cell_type": "markdown",
   "id": "b046a7b1-e380-4879-a829-6e9f1a59e158",
   "metadata": {},
   "source": [
    "You can simulate the function-call stack using the pop and append(your push) list methods"
   ]
  },
  {
   "cell_type": "markdown",
   "id": "a324c690-7df0-48b0-a396-0ebcefa2aa47",
   "metadata": {
    "jp-MarkdownHeadingCollapsed": true,
    "tags": []
   },
   "source": [
    "## List Comprehensions"
   ]
  },
  {
   "cell_type": "markdown",
   "id": "395cfacb-9306-4d49-b73a-a43ff12cd80c",
   "metadata": {},
   "source": [
    "A functional-style feature with **list comprehensions** - a ocncise and conveient notation for creating new lists. "
   ]
  },
  {
   "cell_type": "code",
   "execution_count": null,
   "id": "388fe112-fe90-4b99-9357-fe9c652e7671",
   "metadata": {},
   "outputs": [],
   "source": [
    "##instead of:\n",
    "list 1 = []\n",
    "for item in range (1,10):\n",
    "    list1.append(item)"
   ]
  },
  {
   "cell_type": "code",
   "execution_count": null,
   "id": "938fb6ec-e8e7-49ed-befd-ba6ac2c89cb3",
   "metadata": {},
   "outputs": [],
   "source": [
    "#we can use the below:\n",
    "list2 = [item for item in range(1,10)]"
   ]
  },
  {
   "cell_type": "markdown",
   "id": "9ceb7af3-5f22-40a6-a354-d31a32f6ed75",
   "metadata": {},
   "source": [
    "#### Self Check\n",
    "1. A list comprehension's _*for*_ clause iterates over the specific sequence. \n",
    "2. A list comprehension's _*if*_ clause filters sequence elements to selectonly those that match a condition. \n",
    "3. Use a list comprehension to create a list of tuples containing the numbers 1-5 and their cubes"
   ]
  },
  {
   "cell_type": "code",
   "execution_count": 50,
   "id": "13d98655-a48e-49f6-8b1a-c47915b40b85",
   "metadata": {},
   "outputs": [
    {
     "data": {
      "text/plain": [
       "[(1, 1), (2, 8), (3, 27), (4, 64), (5, 125)]"
      ]
     },
     "execution_count": 50,
     "metadata": {},
     "output_type": "execute_result"
    }
   ],
   "source": [
    "cubes = [(x,x**3) for x in range (1,6)]\n",
    "cubes"
   ]
  },
  {
   "cell_type": "markdown",
   "id": "1b3926ac-389c-470c-8ba1-86a36dcc0024",
   "metadata": {},
   "source": [
    "4. Use a list comprehension and the range function with a step to create a list of the multiples of 3 that are less than 30."
   ]
  },
  {
   "cell_type": "code",
   "execution_count": 52,
   "id": "5f483202-0c0a-4b01-840d-9a00c888e09e",
   "metadata": {},
   "outputs": [
    {
     "data": {
      "text/plain": [
       "[3, 6, 9, 12, 15, 18, 21, 24, 27]"
      ]
     },
     "execution_count": 52,
     "metadata": {},
     "output_type": "execute_result"
    }
   ],
   "source": [
    "multiples_of_3 = [x for x in range(3,30,3)]\n",
    "multiples_of_3"
   ]
  },
  {
   "cell_type": "markdown",
   "id": "4651d1e7-3aaf-4655-9fce-dbfc799b6a27",
   "metadata": {
    "jp-MarkdownHeadingCollapsed": true,
    "tags": []
   },
   "source": [
    "## Filter, Map and Reduce"
   ]
  },
  {
   "cell_type": "markdown",
   "id": "fcea964b-b7d4-4c45-a3b0-1bf6f7370398",
   "metadata": {},
   "source": [
    "- Can use the built in function to obtain specific values in a list (e.g.: odd numbers)\n",
    "- **Lambda** can be used to define a function and input the arguments as needed. \n",
    "- **Map** function can be used to create a list and map the functions that ran to that specific list. \n",
    "- A **reduction** processes a sequence's elements into a single value, such as their count, total or average."
   ]
  },
  {
   "cell_type": "markdown",
   "id": "03ffacd9-6106-4379-b6c7-4900a0893df4",
   "metadata": {},
   "source": [
    "#### Self Check\n",
    "1. _*Filter*_,_*map*_,_*reduce*_ are common operations used in functional-style programming\n",
    "2. A _*reduction*_ processes a sequence's elements into a single value, such as their count, total or average.\n",
    "3. Create a list called numbers containing 1 through 15, then perform the following:\n",
    "    - Use the filter function with a lambda to select only numbers event\n",
    "    - Use the map function with a lambda to square the values of numbers' elements.\n",
    "    - Filter numbers' even elements then map them to their squares"
   ]
  },
  {
   "cell_type": "code",
   "execution_count": 53,
   "id": "972dfdd9-adbc-450e-82d7-d52ebd6129be",
   "metadata": {},
   "outputs": [
    {
     "data": {
      "text/plain": [
       "[1, 2, 3, 4, 5, 6, 7, 8, 9, 10, 11, 12, 13, 14, 15]"
      ]
     },
     "execution_count": 53,
     "metadata": {},
     "output_type": "execute_result"
    }
   ],
   "source": [
    "numbers = list(range(1,16))\n",
    "numbers"
   ]
  },
  {
   "cell_type": "code",
   "execution_count": 56,
   "id": "b4656dbb-fc4b-4123-872b-ca164ff0013e",
   "metadata": {},
   "outputs": [
    {
     "data": {
      "text/plain": [
       "[2, 4, 6, 8, 10, 12, 14]"
      ]
     },
     "execution_count": 56,
     "metadata": {},
     "output_type": "execute_result"
    }
   ],
   "source": [
    "list(filter(lambda x: x %2 == 0, numbers))"
   ]
  },
  {
   "cell_type": "code",
   "execution_count": 57,
   "id": "f17cd108-9db7-489d-9c20-15b97d26f3bc",
   "metadata": {},
   "outputs": [
    {
     "data": {
      "text/plain": [
       "[1, 4, 9, 16, 25, 36, 49, 64, 81, 100, 121, 144, 169, 196, 225]"
      ]
     },
     "execution_count": 57,
     "metadata": {},
     "output_type": "execute_result"
    }
   ],
   "source": [
    "list(map(lambda x: x ** 2, numbers))"
   ]
  },
  {
   "cell_type": "code",
   "execution_count": 58,
   "id": "b4c962a6-44a7-4119-b865-64a200485918",
   "metadata": {},
   "outputs": [
    {
     "data": {
      "text/plain": [
       "[4, 16, 36, 64, 100, 144, 196]"
      ]
     },
     "execution_count": 58,
     "metadata": {},
     "output_type": "execute_result"
    }
   ],
   "source": [
    "list(map(lambda x: x ** 2,filter(lambda x: x % 2 == 0, numbers)))"
   ]
  },
  {
   "cell_type": "markdown",
   "id": "6feab344-dc17-4b30-913d-7de7a32f8f74",
   "metadata": {},
   "source": [
    "4. Map a list of the three Fahrenheit tempeatures 41, 32, and 212 to a list of tuples containing the Fahrenheit tempatures and their celsius equivalents. "
   ]
  },
  {
   "cell_type": "code",
   "execution_count": 60,
   "id": "ec0ff4ae-e02f-4a7c-880f-0fde8387094e",
   "metadata": {},
   "outputs": [
    {
     "data": {
      "text/plain": [
       "[(41, 5.0), (32, 0.0), (212, 100.0)]"
      ]
     },
     "execution_count": 60,
     "metadata": {},
     "output_type": "execute_result"
    }
   ],
   "source": [
    "fahrenheit = [41,32,212]\n",
    "\n",
    "list(map(lambda x: (x,(x - 32) * 5/9), fahrenheit)) #x fahrenheit is kept and the '(' starts the tuple, then (,) Celcius calculation"
   ]
  },
  {
   "cell_type": "markdown",
   "id": "86ad436d-2425-4192-9fc1-f8a3c8f28c51",
   "metadata": {
    "jp-MarkdownHeadingCollapsed": true,
    "tags": []
   },
   "source": [
    "## Two-Dimensional Lists"
   ]
  },
  {
   "cell_type": "markdown",
   "id": "86b29852-5b05-4601-9ed3-26ae0259fd5d",
   "metadata": {},
   "source": [
    "Lists can contain other lists as elements - a typical use is to represent **tables**. These are called **two-dimensional lists** - with two indicies to identify an element. "
   ]
  },
  {
   "cell_type": "code",
   "execution_count": 61,
   "id": "58cb6982-aaa8-4c57-96c2-5e95822fec39",
   "metadata": {},
   "outputs": [
    {
     "name": "stdout",
     "output_type": "stream",
     "text": [
      "77 80 90 73 \n",
      "95 85 81 80 \n",
      "70 90 86 93 \n"
     ]
    }
   ],
   "source": [
    "#creating a two dimensional list\n",
    "a =[[77,80,90,73],[95,85,81,80],[70,90,86,93]]\n",
    "\n",
    "#output of a two-dimensional list one row at a time\n",
    "for row in a:\n",
    "    for item in row:\n",
    "        print(item, end=' ')\n",
    "    print()"
   ]
  },
  {
   "cell_type": "markdown",
   "id": "72343618-a6a6-4925-97c2-2950cc33a8f9",
   "metadata": {},
   "source": [
    "- 77,80,90,73 are initalized as a[0][0], a[0][1], a[0][2], a[0][3]\n",
    "- 95,85,81,80 are initalized as a[1][0], a[1][1], a[1][2], a[1][3]\n",
    "- etc.\n",
    "\n",
    "#### Self Check\n",
    "1. In a two-dimensional list, the first index by convention identifies the _*row*_ of an element and the second index identifies the _*column*_ of an element. \n",
    "2. Label the elements of the two by three list sales to indicate the order in which they're set to zero by the following program segment:\n",
    "    - sales [0][0], sales[0][1], sales [0][2], sales [1][0], sales [1][1], sales [1][2]\n",
    "3. Consider a two by three integer list t.\n",
    "    - How many rows does t have?\n",
    "        - 2\n",
    "    - How many columns does t have? \n",
    "        - 3\n",
    "    - How many elements does t have?\n",
    "        - 6\n",
    "    - What are the names of the elements in row 1?\n",
    "        - t[1][0],t[1][1],t[1][2]\n",
    "    - What are names of the elements in column 2? \n",
    "        - t[0][2],t[1][2]\n",
    "    - Set the element in 0 and column 1 to 10\n",
    "        - t[0][1] = 10.\n",
    "    - Write a nested for statement that sets each element ot the sum of its indices.\n",
    "    ```python\n",
    "        for row in range(len(t)):\n",
    "            for column in range(len(t[row])):\n",
    "                t[row][column] = row + column\n",
    "    ```\n",
    "4. Given the two-by-three integer list t\n",
    "    - t = [[10,7,3], [20,4,17]]\n",
    "    - Determine and display the average of t's elements using nested for statements to iterate through the elements\n",
    "    - Write a for statement that determine sand displays the average of t's elements using the reductions sum and len to calculate the sum of each row's elements and the number of elements in each row"
   ]
  },
  {
   "cell_type": "code",
   "execution_count": 68,
   "id": "adb5ac03-7320-488b-93af-6fa973ad1383",
   "metadata": {},
   "outputs": [
    {
     "name": "stdout",
     "output_type": "stream",
     "text": [
      "The average of t's elements is: 10.1667\n"
     ]
    }
   ],
   "source": [
    "t = [[10,7,3],[20,4,17]]\n",
    "total = 0\n",
    "items = 0\n",
    "\n",
    "for row in t:\n",
    "    for item in row:\n",
    "        total += item\n",
    "        items += 1\n",
    "total/items\n",
    "\n",
    "print(f'The average of t\\'s elements is: {(total/items):.4f}')"
   ]
  },
  {
   "cell_type": "code",
   "execution_count": 69,
   "id": "b28747c1-814a-4279-be80-3ca644b49e3a",
   "metadata": {},
   "outputs": [
    {
     "name": "stdout",
     "output_type": "stream",
     "text": [
      "The average of t's elements is: 10.1667\n"
     ]
    }
   ],
   "source": [
    "total = 0\n",
    "items = 0\n",
    "for row in t:\n",
    "    total += sum(row)\n",
    "    items += len(row)\n",
    "total/items\n",
    "\n",
    "print(f'The average of t\\'s elements is: {(total/items):.4f}')"
   ]
  },
  {
   "cell_type": "markdown",
   "id": "6884d35e-c51d-4fb4-a90b-8eed4d98a713",
   "metadata": {},
   "source": [
    "*Written by Lindsey Sullivan*"
   ]
  },
  {
   "cell_type": "markdown",
   "id": "9edcc0ce-9cbd-4d64-b8ea-ca8b1338a895",
   "metadata": {
    "jp-MarkdownHeadingCollapsed": true,
    "tags": []
   },
   "source": [
    "[Return to Top](#Lists)"
   ]
  },
  {
   "cell_type": "markdown",
   "id": "61f77be5-65cd-4ca0-8ec4-9d6c1808bc1e",
   "metadata": {
    "tags": []
   },
   "source": [
    "# Project Part 2 - Dictionaries and Sets\n",
    "\n",
    "- [Dictionaries](#Dictionaries)\n",
    "- [Iterating Through a Dictionary](#Iterating-Through-a-Dictionary)\n",
    "- [Basic Dictionary Operations](#Basic-Dictionary-Operations)\n",
    "- [Dictionary Methods keys and values](#Dictionary-Methods-keys-and-values)\n",
    "- [Dictionary Comparisons](#Dictionary-Comparisons)\n",
    "- [Example: Word Counts](#Example:-Word-Counts)\n",
    "- [Sets](#Sets)"
   ]
  },
  {
   "cell_type": "markdown",
   "id": "94d12159-059a-4e23-9927-01b217bbe923",
   "metadata": {},
   "source": [
    "## Dictionaries"
   ]
  },
  {
   "cell_type": "markdown",
   "id": "c8340f87-9f51-450b-897d-a92a2a600f2c",
   "metadata": {},
   "source": [
    "A dictionary associates keys with values. Each key maps to a specific value. Dictionary keys must be immutable and unique. \n",
    "- To create a dictionary enclose in {}, a 'comma','seperated','list','of','key-value pairs' in the format *key: value*. \n",
    "- You can create an empty dictionary with {}. "
   ]
  },
  {
   "cell_type": "code",
   "execution_count": 70,
   "id": "94dcf2db-b46d-4016-98e5-8f928be1ac2b",
   "metadata": {},
   "outputs": [
    {
     "data": {
      "text/plain": [
       "{'Finland': 'fi', 'South Africa': 'za', 'Nepal': 'np', 'United States': 'us'}"
      ]
     },
     "execution_count": 70,
     "metadata": {},
     "output_type": "execute_result"
    }
   ],
   "source": [
    "#creating a dictionary\n",
    "country_codes = {'Finland':'fi','South Africa':'za','Nepal':'np','United States':'us'}\n",
    "country_codes"
   ]
  },
  {
   "cell_type": "code",
   "execution_count": 71,
   "id": "a12f05d5-644b-4ccb-be82-83e5ec207691",
   "metadata": {},
   "outputs": [
    {
     "data": {
      "text/plain": [
       "4"
      ]
     },
     "execution_count": 71,
     "metadata": {},
     "output_type": "execute_result"
    }
   ],
   "source": [
    "#len() for a dictionary reutnrs the number of key-value pairs in the dictionary\n",
    "len(country_codes)"
   ]
  },
  {
   "cell_type": "code",
   "execution_count": 73,
   "id": "fff88815-ca77-48d0-af52-d97212e4317d",
   "metadata": {},
   "outputs": [
    {
     "name": "stdout",
     "output_type": "stream",
     "text": [
      "country_codes is not empty\n"
     ]
    }
   ],
   "source": [
    "#can use a dictionary as a condition to determine if empty or non empty\n",
    "if country_codes:\n",
    "    print('country_codes is not empty')\n",
    "else:\n",
    "    print('country_codes is empty')"
   ]
  },
  {
   "cell_type": "code",
   "execution_count": 74,
   "id": "51282adf-4db1-4933-93c2-3fa894d4498a",
   "metadata": {},
   "outputs": [
    {
     "name": "stdout",
     "output_type": "stream",
     "text": [
      "country_codes is empty\n"
     ]
    }
   ],
   "source": [
    "#use clear to delete the dictionary's key-value pairs\n",
    "country_codes.clear()\n",
    "\n",
    "if country_codes:\n",
    "    print('country_codes is not empty')\n",
    "else:\n",
    "    print('country_codes is empty')"
   ]
  },
  {
   "cell_type": "markdown",
   "id": "e0564efe-b922-43bf-abac-f4b7b7ac579d",
   "metadata": {},
   "source": [
    "#### Self Check\n",
    "1. _*Dictionaries* can be thought of as unordered collections in which each value is accessed through its corresponding key.\n",
    "2. True/False - Dictionaries may contain duplicate keys **False**"
   ]
  },
  {
   "cell_type": "markdown",
   "id": "8fbde99c-af11-4f6c-8dad-4ca73fef1cf3",
   "metadata": {},
   "source": [
    "## Iterating Through a Dictionary"
   ]
  },
  {
   "cell_type": "markdown",
   "id": "2db7e5af-e33a-41e4-887b-890bd3bbf9d5",
   "metadata": {},
   "source": [
    "The following dictionary maps month-name strings to int values representing the number of days in the corresponding month. Note that *multiple* keys can have the same value. \n",
    "\n",
    "A *for* statement iterates through value pairs and the method **items** returns each key-value pair as a tuple, which we unpack into month and days. "
   ]
  },
  {
   "cell_type": "code",
   "execution_count": 75,
   "id": "af3eb50f-d964-442f-abd5-81148113da27",
   "metadata": {},
   "outputs": [
    {
     "name": "stdout",
     "output_type": "stream",
     "text": [
      "January has 31 days\n",
      "February has 28 days\n",
      "March has 31 days\n"
     ]
    }
   ],
   "source": [
    "days_per_month = {'January': 31, 'February': 28, 'March' : 31}\n",
    "days_per_month\n",
    "\n",
    "for month, days in days_per_month.items():\n",
    "    print(f'{month} has {days} days')"
   ]
  },
  {
   "cell_type": "markdown",
   "id": "cfec862f-21c3-414e-9343-4037764cbcc0",
   "metadata": {},
   "source": [
    "### Self Check\n",
    "1. Dictionary method _*item*_ returns each key-value pair as a tuple."
   ]
  },
  {
   "cell_type": "markdown",
   "id": "9305292c-2e33-4a31-a54c-f1257ab869b0",
   "metadata": {},
   "source": [
    "## Basic Dictionary Operations"
   ]
  },
  {
   "cell_type": "code",
   "execution_count": 77,
   "id": "20388a53-a3bd-4962-98d0-a1342db8ad44",
   "metadata": {},
   "outputs": [
    {
     "data": {
      "text/plain": [
       "5"
      ]
     },
     "execution_count": 77,
     "metadata": {},
     "output_type": "execute_result"
    }
   ],
   "source": [
    "roman_numerals = {'I': 1, 'II':2, 'III':3, 'IV':4, 'V':5, 'X':100}\n",
    "\n",
    "#associated value with 'V'\n",
    "roman_numerals['V']\n",
    "\n",
    "#updating a value\n",
    "#roman_numberals['X'] = 10"
   ]
  },
  {
   "cell_type": "code",
   "execution_count": 78,
   "id": "d9d46cb9-8f43-465f-a56d-0245720a0d67",
   "metadata": {},
   "outputs": [
    {
     "data": {
      "text/plain": [
       "{'I': 1, 'II': 2, 'III': 3, 'IV': 4, 'V': 5, 'X': 100, 'L': 50}"
      ]
     },
     "execution_count": 78,
     "metadata": {},
     "output_type": "execute_result"
    }
   ],
   "source": [
    "#adding a new key-value pair\n",
    "roman_numerals['L'] = 50\n",
    "roman_numerals\n",
    "\n",
    "#delete\n",
    "#del roman_numerals['III']"
   ]
  },
  {
   "cell_type": "markdown",
   "id": "4a31d3ac-4215-44e4-a995-cbb2bea31d7e",
   "metadata": {},
   "source": [
    "## Dictionary Methods keys and values"
   ]
  },
  {
   "cell_type": "code",
   "execution_count": 79,
   "id": "95288c7d-68fb-4e78-ae88-11d11fcd9e02",
   "metadata": {},
   "outputs": [
    {
     "name": "stdout",
     "output_type": "stream",
     "text": [
      "January February March April "
     ]
    }
   ],
   "source": [
    "#Practice using Dictionary Methods keys and Values\n",
    "months = {'January':1,'February':2,'March':3}\n",
    "months['April'] = 4\n",
    "\n",
    "for month_name in months.keys():\n",
    "    print(month_name, end =' ')\n",
    "    #retreives the keys"
   ]
  },
  {
   "cell_type": "code",
   "execution_count": 81,
   "id": "9c15c39d-edb4-45a3-937f-7fdcf6cee861",
   "metadata": {},
   "outputs": [
    {
     "name": "stdout",
     "output_type": "stream",
     "text": [
      "1 2 3 4 "
     ]
    }
   ],
   "source": [
    "for month_number in months.values():\n",
    "    print(month_number, end=' ')\n",
    "    #retreives the values"
   ]
  },
  {
   "cell_type": "code",
   "execution_count": 90,
   "id": "7494ac41-276e-441f-9712-f8ee77b2f5db",
   "metadata": {},
   "outputs": [
    {
     "name": "stdout",
     "output_type": "stream",
     "text": [
      "Keys in a list ['January', 'February', 'March', 'April']\n",
      "Values in a list [1, 2, 3, 4]\n",
      "Key-Value Pairs in a list [('January', 1), ('February', 2), ('March', 3), ('April', 4)]\n"
     ]
    }
   ],
   "source": [
    "#Convert Dictionary Keys, Values and Key-Value Paris to Lists\n",
    "month_name = list(months.keys())\n",
    "print(f'Keys in a list {month_name}')\n",
    "month_number =list(months.values())\n",
    "print(f'Values in a list {month_number}')\n",
    "month_all = list(months.items())\n",
    "print(f'Key-Value Pairs in a list {month_all}')"
   ]
  },
  {
   "cell_type": "markdown",
   "id": "68136c38-b45e-42b8-a891-961e3ced67f2",
   "metadata": {},
   "source": [
    "## Dictionary Comparisons"
   ]
  },
  {
   "cell_type": "markdown",
   "id": "ec800c24-af23-45e9-847a-7d1ac9ea7bb7",
   "metadata": {},
   "source": [
    "The comaprison operators == and != can be used to determine whether two dictionaries ahve identical or different contents. An equals (==) evaluates to True if both dictionaries have the same key-value pairs, regardless of the order in which those key-value paris were added to each dictionary."
   ]
  },
  {
   "cell_type": "code",
   "execution_count": 91,
   "id": "26a92938-35d2-4a9a-a15f-b5c4905c97f9",
   "metadata": {},
   "outputs": [
    {
     "data": {
      "text/plain": [
       "False"
      ]
     },
     "execution_count": 91,
     "metadata": {},
     "output_type": "execute_result"
    }
   ],
   "source": [
    "city_capitols1 = {'Missouri':'Jefferson City','Kansas':'Topeka','Nebraska':'Lincoln City'}\n",
    "city_capitols2= {'Nevada':'Carson City','Missouri':'Jefferson City','Colorado':'Denver'}\n",
    "city_capitols3= {'Nebraska':'Lincoln City','Kansas':'Topeka','Missouri':'Jefferson City'}\n",
    "\n",
    "city_capitols1 == city_capitols2"
   ]
  },
  {
   "cell_type": "code",
   "execution_count": 94,
   "id": "84213af3-ff49-4d97-91b0-bea920fbb9c2",
   "metadata": {},
   "outputs": [
    {
     "data": {
      "text/plain": [
       "False"
      ]
     },
     "execution_count": 94,
     "metadata": {},
     "output_type": "execute_result"
    }
   ],
   "source": [
    "city_capitols2 == city_capitols3"
   ]
  },
  {
   "cell_type": "code",
   "execution_count": 96,
   "id": "c024397f-1321-4631-ab50-182551f1e20c",
   "metadata": {},
   "outputs": [
    {
     "data": {
      "text/plain": [
       "True"
      ]
     },
     "execution_count": 96,
     "metadata": {},
     "output_type": "execute_result"
    }
   ],
   "source": [
    "city_capitols1 == city_capitols3"
   ]
  },
  {
   "cell_type": "markdown",
   "id": "bb8337f4-c877-4d83-a47f-39f92ed61a00",
   "metadata": {},
   "source": [
    "## Example: Word Counts"
   ]
  },
  {
   "cell_type": "code",
   "execution_count": 100,
   "id": "b4a65b77-bb73-449f-9350-1cc4c2e6ee56",
   "metadata": {},
   "outputs": [
    {
     "name": "stdout",
     "output_type": "stream",
     "text": [
      "WORD        COUNT\n",
      "a           2\n",
      "different   1\n",
      "is          2\n",
      "sample      2\n",
      "several     1\n",
      "some        1\n",
      "text        2\n",
      "this        2\n",
      "with        2\n",
      "words       2\n",
      "\n",
      "Number of unique words: 10\n"
     ]
    }
   ],
   "source": [
    "text = ('this is a sample text with several words this is a sample text with some different words')\n",
    "\n",
    "word_counts = {} #creating an empty dictionary\n",
    "\n",
    "for word in text.split():\n",
    "    if word in word_counts:\n",
    "        word_counts[word] += 1 #update existing key-value pair\n",
    "    else:\n",
    "        word_counts[word] = 1 #inserts new key-value pair\n",
    "print(f'{\"WORD\":<12}COUNT')\n",
    "\n",
    "for word, count in sorted(word_counts.items()):\n",
    "    print(f'{word:<12}{count}')\n",
    "\n",
    "print('\\nNumber of unique words:', len(word_counts))"
   ]
  },
  {
   "cell_type": "markdown",
   "id": "410bf2a2-aa49-48c9-abdd-0fe433fc2cb1",
   "metadata": {},
   "source": [
    "Frequent words of: a,is,sample,text, this, with, words"
   ]
  },
  {
   "cell_type": "code",
   "execution_count": 109,
   "id": "b819d956-ad24-4bdd-bd0c-e5afae266661",
   "metadata": {},
   "outputs": [
    {
     "name": "stdout",
     "output_type": "stream",
     "text": [
      "WORD        COUNT\n",
      "It's        1\n",
      "Nancy       1\n",
      "The         1\n",
      "a           1\n",
      "became      1\n",
      "best        1\n",
      "create      1\n",
      "difficult   1\n",
      "elephant    1\n",
      "envy        1\n",
      "go          1\n",
      "he'd        1\n",
      "home        1\n",
      "lengths     1\n",
      "line        1\n",
      "miniature   1\n",
      "neighborhood1\n",
      "of          1\n",
      "pet         1\n",
      "remain      1\n",
      "short       1\n",
      "the         4\n",
      "thought     1\n",
      "to          4\n",
      "understand  1\n",
      "was         1\n",
      "way         1\n",
      "welcoming   1\n",
      "\n",
      "Number of unique words: 28\n"
     ]
    }
   ],
   "source": [
    "#New text string\n",
    "text = ('It\\'s difficult to understand the lengths he\\'d go to remain short The miniature pet elephant became the envy of the neighborhood Nancy thought the best way to create a welcoming home was to line')\n",
    "\n",
    "word_counts = {} #creating an empty dictionary\n",
    "\n",
    "for word in text.split():\n",
    "    if word in word_counts:\n",
    "        word_counts[word] += 1 #update existing key-value pair\n",
    "    else:\n",
    "        word_counts[word] = 1 #inserts new key-value pair\n",
    "print(f'{\"WORD\":<12}COUNT')\n",
    "\n",
    "for word, count in sorted(word_counts.items()):\n",
    "    print(f'{word:<12}{count}')\n",
    "\n",
    "print('\\nNumber of unique words:', len(word_counts))"
   ]
  },
  {
   "cell_type": "markdown",
   "id": "1cae4daa-750d-444e-8cb3-1a490690f7a4",
   "metadata": {},
   "source": [
    "### Self Check\n",
    "1. String method _*split*_ tokenizes a string using the delimiter provided in the method's string argument.\n",
    "2. Use a comprehension to create a list of 50 random integers in the range 1-5. Summarize them witha counter. Display the results in a two-column format"
   ]
  },
  {
   "cell_type": "code",
   "execution_count": 110,
   "id": "614680a3-7f69-4404-a65d-ee3256a302bb",
   "metadata": {},
   "outputs": [
    {
     "name": "stdout",
     "output_type": "stream",
     "text": [
      "1   5\n",
      "2   19\n",
      "3   4\n",
      "4   13\n",
      "5   9\n"
     ]
    }
   ],
   "source": [
    "import random\n",
    "numbers = [random.randrange(1,6) for i in range (50)]\n",
    "from collections import Counter\n",
    "counter = Counter(numbers)\n",
    "for value, count in sorted(counter.items()):\n",
    "    print(f'{value:<4}{count}')"
   ]
  },
  {
   "cell_type": "markdown",
   "id": "5003a3b8-b76e-457c-8aa9-67eb43d6f0a5",
   "metadata": {},
   "source": [
    "3. Use a dictionary comprehension to create a dictionary of the numbers 1-5 mapped to their cubes"
   ]
  },
  {
   "cell_type": "code",
   "execution_count": 112,
   "id": "4f07545e-1f35-4ab5-bde4-8d42b8984b90",
   "metadata": {},
   "outputs": [
    {
     "data": {
      "text/plain": [
       "{1: 1, 2: 8, 3: 27, 4: 64, 5: 125}"
      ]
     },
     "execution_count": 112,
     "metadata": {},
     "output_type": "execute_result"
    }
   ],
   "source": [
    "cube_dictionary = {number:number ** 3 for number in range (1,6)}\n",
    "cube_dictionary"
   ]
  },
  {
   "cell_type": "markdown",
   "id": "35ee6323-9d8f-48df-8901-2fb4d23698f5",
   "metadata": {},
   "source": [
    "## Sets"
   ]
  },
  {
   "cell_type": "markdown",
   "id": "8c245e5e-e60a-4114-be9f-65076794c555",
   "metadata": {},
   "source": [
    "A set is an unordered collection of *unique* values. Sets may contain only immutuable objects, like strings, ints, floats, and tuples that contain only immutable elements. "
   ]
  },
  {
   "cell_type": "code",
   "execution_count": 113,
   "id": "9016a91e-52d5-4c25-9385-1e47a36560f6",
   "metadata": {},
   "outputs": [
    {
     "data": {
      "text/plain": [
       "{'green', 'orange', 'red', 'yellow'}"
      ]
     },
     "execution_count": 113,
     "metadata": {},
     "output_type": "execute_result"
    }
   ],
   "source": [
    "#creating a set\n",
    "colors = {'red','orange','yellow','green'}\n",
    "colors"
   ]
  },
  {
   "cell_type": "code",
   "execution_count": 114,
   "id": "9df30164-d882-4f34-b881-3193018faca1",
   "metadata": {},
   "outputs": [
    {
     "data": {
      "text/plain": [
       "4"
      ]
     },
     "execution_count": 114,
     "metadata": {},
     "output_type": "execute_result"
    }
   ],
   "source": [
    "#determining length\n",
    "len(colors)"
   ]
  },
  {
   "cell_type": "code",
   "execution_count": 115,
   "id": "b7ded21d-8cc4-41a3-9084-2aad85ccb1d9",
   "metadata": {},
   "outputs": [
    {
     "data": {
      "text/plain": [
       "True"
      ]
     },
     "execution_count": 115,
     "metadata": {},
     "output_type": "execute_result"
    }
   ],
   "source": [
    "#checking if a value is in a set\n",
    "'red' in colors"
   ]
  },
  {
   "cell_type": "code",
   "execution_count": 116,
   "id": "34d3134f-eaca-4df4-b0dc-cd6700a16380",
   "metadata": {},
   "outputs": [
    {
     "name": "stdout",
     "output_type": "stream",
     "text": [
      "YELLOW ORANGE GREEN RED "
     ]
    }
   ],
   "source": [
    "#iterating through a set\n",
    "for color in colors:\n",
    "    print(color.upper(),end=' ')\n",
    "    "
   ]
  },
  {
   "cell_type": "markdown",
   "id": "a384ddf4-2707-4c88-9a74-5599b8a6a42d",
   "metadata": {},
   "source": [
    "You can create a set from another collection of values by using the built-in set function. One of the benefits of sets is they automatically remove duplicates."
   ]
  },
  {
   "cell_type": "code",
   "execution_count": 119,
   "id": "454539db-c8e0-494f-a7cc-087a5edb6774",
   "metadata": {},
   "outputs": [
    {
     "data": {
      "text/plain": [
       "{0, 1, 2, 3, 4, 5, 6, 7, 8, 9}"
      ]
     },
     "execution_count": 119,
     "metadata": {},
     "output_type": "execute_result"
    }
   ],
   "source": [
    "numbers = list(range(10)) + list(range(5))\n",
    "numbers\n",
    "set(numbers)"
   ]
  },
  {
   "cell_type": "markdown",
   "id": "29ad8261-5447-410c-8f8d-8a969e5f941b",
   "metadata": {},
   "source": [
    "### Self Checks\n",
    "1. True/False - Sets are colelctions of unique mutable and immuatable objects. **False**\n",
    "2. You can createa. set from another colelction of values by using the built-in _*set*_ function.\n",
    "3. Assign the following string to varaible text, then split it into tokens with string method split and create a set from the results. Display the unqiue words in sorted order. "
   ]
  },
  {
   "cell_type": "code",
   "execution_count": 121,
   "id": "acb48be8-2172-4bf2-9d3e-188d51ac910f",
   "metadata": {},
   "outputs": [
    {
     "name": "stdout",
     "output_type": "stream",
     "text": [
      "be is not or question that the to "
     ]
    }
   ],
   "source": [
    "text = 'to be or not to be that is the question'\n",
    "unique_words = set(text.split())\n",
    "for word in sorted(unique_words):\n",
    "    print(word, end =' ')"
   ]
  },
  {
   "cell_type": "markdown",
   "id": "db3e51a7-0e6f-4ad8-b6ad-cb55a354ff0c",
   "metadata": {},
   "source": [
    "You can compare sets using the == and != operators"
   ]
  },
  {
   "cell_type": "code",
   "execution_count": 123,
   "id": "cf0827ca-dfd9-451e-b4a5-ce8899a8cb2d",
   "metadata": {},
   "outputs": [
    {
     "data": {
      "text/plain": [
       "True"
      ]
     },
     "execution_count": 123,
     "metadata": {},
     "output_type": "execute_result"
    }
   ],
   "source": [
    "{1,3,5} == {3,5,1}"
   ]
  },
  {
   "cell_type": "code",
   "execution_count": 124,
   "id": "4316ed0a-6ec2-4b6e-bd82-ebd640dd3f4b",
   "metadata": {},
   "outputs": [
    {
     "data": {
      "text/plain": [
       "False"
      ]
     },
     "execution_count": 124,
     "metadata": {},
     "output_type": "execute_result"
    }
   ],
   "source": [
    "{1,3,5} == {3,5,12}"
   ]
  },
  {
   "cell_type": "markdown",
   "id": "503acbe2-a6f0-4e74-be82-809cbdb187ed",
   "metadata": {},
   "source": [
    "### Self Checks\n",
    "1. True/False - Sets may be compared with only the == and != comparison operators - **False**\n",
    "2. A subset is a(n) _*proper*_ subset of another set if all the subset's elements are in the other set and the other set has more elements\n",
    "3. Use sets and issuperset to determine whether the characters of the string'abc def ghi jkl mno' are. asuper set of the characters int eh string 'hi mom'"
   ]
  },
  {
   "cell_type": "code",
   "execution_count": 125,
   "id": "01d0c842-33a5-4aeb-9727-b03556ec52bd",
   "metadata": {},
   "outputs": [
    {
     "data": {
      "text/plain": [
       "True"
      ]
     },
     "execution_count": 125,
     "metadata": {},
     "output_type": "execute_result"
    }
   ],
   "source": [
    "set('abc def ghi jkl mno').issuperset('hi mom')"
   ]
  },
  {
   "cell_type": "markdown",
   "id": "35a2d2e9-8da3-40dd-8f18-b24133cbbbb2",
   "metadata": {},
   "source": [
    "### Mathmatetical Set Operators\n",
    "**union** - two sets is a set consisting of all the unique elements using the (|) operator\n",
    "**intersection** - two sets is a set consisting of all the unique elements that the two sets have in common using the (&) operator\n",
    "**difference** - two sets is a set consisting of the elements in the left operand that are not in the right operand. (-) operator\n",
    "**symmetric difference** - between two sets consisting of the elements both sets thaat are no in common with one another. (^) operator\n",
    "**disjoint** is if they do not have any common elements - can be determined with isdisjoint method."
   ]
  },
  {
   "cell_type": "code",
   "execution_count": 126,
   "id": "5bac3043-7435-41bc-b1be-73f3af4c4c15",
   "metadata": {},
   "outputs": [
    {
     "data": {
      "text/plain": [
       "{1, 3, 4, 5, 7, 9}"
      ]
     },
     "execution_count": 126,
     "metadata": {},
     "output_type": "execute_result"
    }
   ],
   "source": [
    "{1,3,4,5} | {4,5,7,9}"
   ]
  },
  {
   "cell_type": "code",
   "execution_count": 127,
   "id": "d3a27396-f9a2-4e07-aa5c-577cc24684ae",
   "metadata": {},
   "outputs": [
    {
     "data": {
      "text/plain": [
       "{4, 5}"
      ]
     },
     "execution_count": 127,
     "metadata": {},
     "output_type": "execute_result"
    }
   ],
   "source": [
    "{1,3,4,5} & {4,5,7,9}"
   ]
  },
  {
   "cell_type": "code",
   "execution_count": 128,
   "id": "083f550d-79df-487d-ab9d-5b766e72993e",
   "metadata": {},
   "outputs": [
    {
     "data": {
      "text/plain": [
       "{1, 3}"
      ]
     },
     "execution_count": 128,
     "metadata": {},
     "output_type": "execute_result"
    }
   ],
   "source": [
    "{1,3,4,5} - {4,5,7,9}"
   ]
  },
  {
   "cell_type": "code",
   "execution_count": 129,
   "id": "8dc92daa-0514-40aa-9513-bf4809d9ac27",
   "metadata": {},
   "outputs": [
    {
     "data": {
      "text/plain": [
       "{1, 3, 7, 9}"
      ]
     },
     "execution_count": 129,
     "metadata": {},
     "output_type": "execute_result"
    }
   ],
   "source": [
    "{1,3,4,5} ^ {4,5,7,9}"
   ]
  },
  {
   "cell_type": "code",
   "execution_count": 131,
   "id": "9691bc92-1cd3-4dd4-808e-211e8580c1c9",
   "metadata": {},
   "outputs": [
    {
     "data": {
      "text/plain": [
       "False"
      ]
     },
     "execution_count": 131,
     "metadata": {},
     "output_type": "execute_result"
    }
   ],
   "source": [
    "{1,3,4,5}.isdisjoint({4,5,7,9})"
   ]
  },
  {
   "cell_type": "markdown",
   "id": "5376cf7c-b2f8-4685-9d11-a8dd7b0f1d15",
   "metadata": {},
   "source": [
    "### Self Check\n",
    "1. Two sets are _*disjoint*_ if they sets do not ahve any common elements\n",
    "2. Given the sets {10,20,30] and {5,10,15,20} use the mathmatical set operators to produce the following sets:\n",
    "    - 30\n",
    "    - 5,15,30\n",
    "    - 5,10,15,20,30\n",
    "    - 10,20"
   ]
  },
  {
   "cell_type": "code",
   "execution_count": 132,
   "id": "a455f97e-10f6-41f8-981a-902a32b4229e",
   "metadata": {},
   "outputs": [
    {
     "data": {
      "text/plain": [
       "{30}"
      ]
     },
     "execution_count": 132,
     "metadata": {},
     "output_type": "execute_result"
    }
   ],
   "source": [
    "{10,20,30} - {5,10,15,20}"
   ]
  },
  {
   "cell_type": "code",
   "execution_count": 133,
   "id": "27d3ed04-a934-4aa9-a220-7ddfa2ec3288",
   "metadata": {},
   "outputs": [
    {
     "data": {
      "text/plain": [
       "{5, 15, 30}"
      ]
     },
     "execution_count": 133,
     "metadata": {},
     "output_type": "execute_result"
    }
   ],
   "source": [
    "{10,20,30} ^ {5,10,15,20}"
   ]
  },
  {
   "cell_type": "code",
   "execution_count": 134,
   "id": "27d11012-cc0c-42ce-b579-42ad00fc043b",
   "metadata": {},
   "outputs": [
    {
     "data": {
      "text/plain": [
       "{5, 10, 15, 20, 30}"
      ]
     },
     "execution_count": 134,
     "metadata": {},
     "output_type": "execute_result"
    }
   ],
   "source": [
    "{10,20,30} | {5,10,15,20}"
   ]
  },
  {
   "cell_type": "code",
   "execution_count": 135,
   "id": "c04207d3-46b9-4220-8a22-c2f2880c199f",
   "metadata": {},
   "outputs": [
    {
     "data": {
      "text/plain": [
       "{10, 20}"
      ]
     },
     "execution_count": 135,
     "metadata": {},
     "output_type": "execute_result"
    }
   ],
   "source": [
    "{10,20,30} & {5,10,15,20}"
   ]
  },
  {
   "cell_type": "markdown",
   "id": "3853fbc4-9a94-43cb-8474-efcb4bd3fddc",
   "metadata": {},
   "source": [
    "### Mutable Mathematical Set Operators\n",
    "Using union augmented assignment |= performs a union operation, but |= modifies its left operand. This can be done for each of the above mathematical set operators except disjoint.\n"
   ]
  },
  {
   "cell_type": "code",
   "execution_count": 136,
   "id": "1ce17d42-c1ab-4e28-a185-0ecce37f60c4",
   "metadata": {},
   "outputs": [
    {
     "data": {
      "text/plain": [
       "{1, 2, 3, 4, 5}"
      ]
     },
     "execution_count": 136,
     "metadata": {},
     "output_type": "execute_result"
    }
   ],
   "source": [
    "numbers = {1,3,5}\n",
    "numbers |= {2,3,4}\n",
    "numbers"
   ]
  },
  {
   "cell_type": "markdown",
   "id": "6c8c474b-d55a-4897-abca-0e887755d4e3",
   "metadata": {},
   "source": [
    "## Methods for Adding and Removing Elements\n",
    "- **add** - inserts is argument if the arugment is not already in the set\n",
    "- **remove** - removes its argument fromt eh set\n",
    "- **dischard** - also removes its argument form the set but does not cause an exception if the value is not in the set\n",
    "- **pop** - can remove arbitary set element and return it with a pop\n",
    "- **clear** - empties the set on which it's called."
   ]
  },
  {
   "cell_type": "code",
   "execution_count": 137,
   "id": "217c7689-bfb5-4e98-8938-8dce52c5b786",
   "metadata": {},
   "outputs": [
    {
     "data": {
      "text/plain": [
       "{1, 2, 3, 4, 5}"
      ]
     },
     "execution_count": 137,
     "metadata": {},
     "output_type": "execute_result"
    }
   ],
   "source": [
    "numbers = {1,3,5}\n",
    "numbers |= {2,3,4}\n",
    "numbers"
   ]
  },
  {
   "cell_type": "code",
   "execution_count": 141,
   "id": "6f1d4bd6-3870-4dd8-94d7-9e9f3a31abb6",
   "metadata": {},
   "outputs": [
    {
     "data": {
      "text/plain": [
       "{1, 2, 3, 4, 5, 17}"
      ]
     },
     "execution_count": 141,
     "metadata": {},
     "output_type": "execute_result"
    }
   ],
   "source": [
    "numbers.add(17)\n",
    "numbers.add(3) #does not add a duplicate\n",
    "numbers"
   ]
  },
  {
   "cell_type": "code",
   "execution_count": 142,
   "id": "3a897aa0-462f-405d-a49a-b1b4511aa7d1",
   "metadata": {},
   "outputs": [
    {
     "data": {
      "text/plain": [
       "{1, 2, 4, 5, 17}"
      ]
     },
     "execution_count": 142,
     "metadata": {},
     "output_type": "execute_result"
    }
   ],
   "source": [
    "numbers.remove(3)\n",
    "numbers"
   ]
  },
  {
   "cell_type": "code",
   "execution_count": 143,
   "id": "731e8e85-f5eb-4a17-93f5-f0a1f2f7b04d",
   "metadata": {},
   "outputs": [
    {
     "data": {
      "text/plain": [
       "1"
      ]
     },
     "execution_count": 143,
     "metadata": {},
     "output_type": "execute_result"
    }
   ],
   "source": [
    "numbers.pop()"
   ]
  },
  {
   "cell_type": "code",
   "execution_count": 144,
   "id": "ec575421-f253-45e7-ad35-b877b208a5a1",
   "metadata": {},
   "outputs": [
    {
     "data": {
      "text/plain": [
       "{2, 4, 5, 17}"
      ]
     },
     "execution_count": 144,
     "metadata": {},
     "output_type": "execute_result"
    }
   ],
   "source": [
    "numbers"
   ]
  },
  {
   "cell_type": "code",
   "execution_count": 145,
   "id": "0c4abc38-08e6-4967-8d4f-640733b6a5c9",
   "metadata": {},
   "outputs": [
    {
     "data": {
      "text/plain": [
       "set()"
      ]
     },
     "execution_count": 145,
     "metadata": {},
     "output_type": "execute_result"
    }
   ],
   "source": [
    "numbers.clear()\n",
    "numbers"
   ]
  },
  {
   "cell_type": "markdown",
   "id": "e45eb361-01bf-43ed-8b2a-24b8b6a3fc9b",
   "metadata": {},
   "source": [
    "### Self Check\n",
    "1. True/False - Set method pop returns the first element added to the set. **False**\n",
    "2. Set method _*update*_ performs a union operation, modifying the set on which it's called."
   ]
  },
  {
   "cell_type": "code",
   "execution_count": null,
   "id": "d10ca47e-0e30-4784-b3e3-d1c509571f50",
   "metadata": {},
   "outputs": [],
   "source": [
    "created by lindsey sullivan"
   ]
  }
 ],
 "metadata": {
  "kernelspec": {
   "display_name": "Python 3",
   "language": "python",
   "name": "python3"
  },
  "language_info": {
   "codemirror_mode": {
    "name": "ipython",
    "version": 3
   },
   "file_extension": ".py",
   "mimetype": "text/x-python",
   "name": "python",
   "nbconvert_exporter": "python",
   "pygments_lexer": "ipython3",
   "version": "3.9.12"
  }
 },
 "nbformat": 4,
 "nbformat_minor": 5
}
